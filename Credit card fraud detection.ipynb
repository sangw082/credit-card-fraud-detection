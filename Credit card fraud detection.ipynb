{
 "cells": [
  {
   "cell_type": "markdown",
   "id": "df473eda",
   "metadata": {
    "toc": true
   },
   "source": [
    "<h1>Table of Contents<span class=\"tocSkip\"></span></h1>\n",
    "<div class=\"toc\"><ul class=\"toc-item\"><li><span><a href=\"#1.-Load-the-dataset\" data-toc-modified-id=\"1.-Load-the-dataset-1\">1. Load the dataset</a></span></li><li><span><a href=\"#2.-EDA\" data-toc-modified-id=\"2.-EDA-2\">2. EDA</a></span></li><li><span><a href=\"#3.-Feature-engineering\" data-toc-modified-id=\"3.-Feature-engineering-3\">3. Feature engineering</a></span><ul class=\"toc-item\"><li><span><a href=\"#Splitting-the-dataset\" data-toc-modified-id=\"Splitting-the-dataset-3.1\">Splitting the dataset</a></span></li><li><span><a href=\"#SMOTE-Sampling\" data-toc-modified-id=\"SMOTE-Sampling-3.2\">SMOTE Sampling</a></span></li></ul></li><li><span><a href=\"#4.-Modeling\" data-toc-modified-id=\"4.-Modeling-4\">4. Modeling</a></span><ul class=\"toc-item\"><li><span><a href=\"#Logistic-Regression\" data-toc-modified-id=\"Logistic-Regression-4.1\">Logistic Regression</a></span></li><li><span><a href=\"#Random-Forest\" data-toc-modified-id=\"Random-Forest-4.2\">Random Forest</a></span></li><li><span><a href=\"#XGBoosting\" data-toc-modified-id=\"XGBoosting-4.3\">XGBoosting</a></span></li><li><span><a href=\"#CatBoost\" data-toc-modified-id=\"CatBoost-4.4\">CatBoost</a></span></li></ul></li><li><span><a href=\"#5.-Comparison-of-model-performances\" data-toc-modified-id=\"5.-Comparison-of-model-performances-5\">5. Comparison of model performances</a></span></li></ul></div>"
   ]
  },
  {
   "cell_type": "code",
   "execution_count": 3,
   "id": "a77e8a5c",
   "metadata": {},
   "outputs": [],
   "source": [
    "from IPython.core.interactiveshell import InteractiveShell\n",
    "InteractiveShell.ast_node_interactivity = \"all\"\n",
    "\n",
    "from IPython.display import Image"
   ]
  },
  {
   "cell_type": "code",
   "execution_count": 5,
   "id": "6a6b6af0",
   "metadata": {},
   "outputs": [],
   "source": [
    "import numpy as np\n",
    "import pandas as pd\n",
    "import matplotlib.pyplot as plt\n",
    "import seaborn as sns\n",
    "import warnings\n",
    "import time\n",
    "import pickle\n",
    "\n",
    "from sklearn.preprocessing import StandardScaler\n",
    "from sklearn.model_selection import train_test_split\n",
    "from sklearn.manifold import TSNE\n",
    "from imblearn.over_sampling import SMOTE\n",
    "from sklearn.ensemble import RandomForestClassifier\n",
    "from sklearn.linear_model import LogisticRegression\n",
    "from sklearn.svm import SVC\n",
    "from sklearn.neighbors import KNeighborsClassifier\n",
    "from sklearn.ensemble import VotingClassifier\n",
    "from sklearn.ensemble import RandomForestClassifier\n",
    "from sklearn.metrics import f1_score, confusion_matrix, classification_report, accuracy_score, average_precision_score\n",
    "from sklearn.model_selection import GridSearchCV\n",
    "import xgboost as xgb\n",
    "from catboost import CatBoostClassifier"
   ]
  },
  {
   "cell_type": "code",
   "execution_count": 3,
   "id": "6a457136",
   "metadata": {},
   "outputs": [],
   "source": [
    "pd.set_option(\"display.max_columns\", None)\n",
    "pd.set_option(\"display.float\", \"{:.3f}\".format)\n",
    "warnings.filterwarnings(action='ignore')"
   ]
  },
  {
   "cell_type": "code",
   "execution_count": 8,
   "id": "7f743bf8",
   "metadata": {},
   "outputs": [],
   "source": [
    "logres = pickle.load(open('logres_model.sav', 'rb'))\n",
    "rf_grid = pickle.load(open('rf_model.sav', 'rb'))\n",
    "xgboosting = pickle.load(open('xgb_model.sav', 'rb'))\n",
    "cat_clf = pickle.load(open('cat_clf.sav', 'rb'))"
   ]
  },
  {
   "cell_type": "code",
   "execution_count": 6,
   "id": "b8a6d29a",
   "metadata": {},
   "outputs": [],
   "source": [
    "def print_score(actual, pred, prob, split):\n",
    "    print(f\"\\n{split} set modeling Result:\")\n",
    "    print(\"================================================\")\n",
    "    print(confusion_matrix(actual, pred))\n",
    "    print(f\"\\nAccuracy Score: {round(accuracy_score(actual, pred), 5)*100}%\")\n",
    "    \n",
    "    print(f\"AU Precision-Recall curve Score: {round(average_precision_score(actual, prob), 5)}\")\n",
    "    print(\"-----------------------------------------------\")\n",
    "    print(classification_report(actual, pred))\n",
    "    print(\"-----------------------------------------------\")"
   ]
  },
  {
   "cell_type": "markdown",
   "id": "6d69ff2c",
   "metadata": {},
   "source": [
    "# 1. Load the dataset"
   ]
  },
  {
   "cell_type": "code",
   "execution_count": 9,
   "id": "41cc13ad",
   "metadata": {},
   "outputs": [],
   "source": [
    "data = pd.read_csv('creditcard_fraud.csv')"
   ]
  },
  {
   "cell_type": "code",
   "execution_count": 5,
   "id": "64a58682",
   "metadata": {},
   "outputs": [
    {
     "data": {
      "text/html": [
       "<div>\n",
       "<style scoped>\n",
       "    .dataframe tbody tr th:only-of-type {\n",
       "        vertical-align: middle;\n",
       "    }\n",
       "\n",
       "    .dataframe tbody tr th {\n",
       "        vertical-align: top;\n",
       "    }\n",
       "\n",
       "    .dataframe thead th {\n",
       "        text-align: right;\n",
       "    }\n",
       "</style>\n",
       "<table border=\"1\" class=\"dataframe\">\n",
       "  <thead>\n",
       "    <tr style=\"text-align: right;\">\n",
       "      <th></th>\n",
       "      <th>Time</th>\n",
       "      <th>V1</th>\n",
       "      <th>V2</th>\n",
       "      <th>V3</th>\n",
       "      <th>V4</th>\n",
       "      <th>V5</th>\n",
       "      <th>V6</th>\n",
       "      <th>V7</th>\n",
       "      <th>V8</th>\n",
       "      <th>V9</th>\n",
       "      <th>V10</th>\n",
       "      <th>V11</th>\n",
       "      <th>V12</th>\n",
       "      <th>V13</th>\n",
       "      <th>V14</th>\n",
       "      <th>V15</th>\n",
       "      <th>V16</th>\n",
       "      <th>V17</th>\n",
       "      <th>V18</th>\n",
       "      <th>V19</th>\n",
       "      <th>V20</th>\n",
       "      <th>V21</th>\n",
       "      <th>V22</th>\n",
       "      <th>V23</th>\n",
       "      <th>V24</th>\n",
       "      <th>V25</th>\n",
       "      <th>V26</th>\n",
       "      <th>V27</th>\n",
       "      <th>V28</th>\n",
       "      <th>Amount</th>\n",
       "      <th>Class</th>\n",
       "    </tr>\n",
       "  </thead>\n",
       "  <tbody>\n",
       "    <tr>\n",
       "      <th>0</th>\n",
       "      <td>0.000</td>\n",
       "      <td>-1.360</td>\n",
       "      <td>-0.073</td>\n",
       "      <td>2.536</td>\n",
       "      <td>1.378</td>\n",
       "      <td>-0.338</td>\n",
       "      <td>0.462</td>\n",
       "      <td>0.240</td>\n",
       "      <td>0.099</td>\n",
       "      <td>0.364</td>\n",
       "      <td>0.091</td>\n",
       "      <td>-0.552</td>\n",
       "      <td>-0.618</td>\n",
       "      <td>-0.991</td>\n",
       "      <td>-0.311</td>\n",
       "      <td>1.468</td>\n",
       "      <td>-0.470</td>\n",
       "      <td>0.208</td>\n",
       "      <td>0.026</td>\n",
       "      <td>0.404</td>\n",
       "      <td>0.251</td>\n",
       "      <td>-0.018</td>\n",
       "      <td>0.278</td>\n",
       "      <td>-0.110</td>\n",
       "      <td>0.067</td>\n",
       "      <td>0.129</td>\n",
       "      <td>-0.189</td>\n",
       "      <td>0.134</td>\n",
       "      <td>-0.021</td>\n",
       "      <td>149.620</td>\n",
       "      <td>0</td>\n",
       "    </tr>\n",
       "    <tr>\n",
       "      <th>1</th>\n",
       "      <td>0.000</td>\n",
       "      <td>1.192</td>\n",
       "      <td>0.266</td>\n",
       "      <td>0.166</td>\n",
       "      <td>0.448</td>\n",
       "      <td>0.060</td>\n",
       "      <td>-0.082</td>\n",
       "      <td>-0.079</td>\n",
       "      <td>0.085</td>\n",
       "      <td>-0.255</td>\n",
       "      <td>-0.167</td>\n",
       "      <td>1.613</td>\n",
       "      <td>1.065</td>\n",
       "      <td>0.489</td>\n",
       "      <td>-0.144</td>\n",
       "      <td>0.636</td>\n",
       "      <td>0.464</td>\n",
       "      <td>-0.115</td>\n",
       "      <td>-0.183</td>\n",
       "      <td>-0.146</td>\n",
       "      <td>-0.069</td>\n",
       "      <td>-0.226</td>\n",
       "      <td>-0.639</td>\n",
       "      <td>0.101</td>\n",
       "      <td>-0.340</td>\n",
       "      <td>0.167</td>\n",
       "      <td>0.126</td>\n",
       "      <td>-0.009</td>\n",
       "      <td>0.015</td>\n",
       "      <td>2.690</td>\n",
       "      <td>0</td>\n",
       "    </tr>\n",
       "    <tr>\n",
       "      <th>2</th>\n",
       "      <td>1.000</td>\n",
       "      <td>-1.358</td>\n",
       "      <td>-1.340</td>\n",
       "      <td>1.773</td>\n",
       "      <td>0.380</td>\n",
       "      <td>-0.503</td>\n",
       "      <td>1.800</td>\n",
       "      <td>0.791</td>\n",
       "      <td>0.248</td>\n",
       "      <td>-1.515</td>\n",
       "      <td>0.208</td>\n",
       "      <td>0.625</td>\n",
       "      <td>0.066</td>\n",
       "      <td>0.717</td>\n",
       "      <td>-0.166</td>\n",
       "      <td>2.346</td>\n",
       "      <td>-2.890</td>\n",
       "      <td>1.110</td>\n",
       "      <td>-0.121</td>\n",
       "      <td>-2.262</td>\n",
       "      <td>0.525</td>\n",
       "      <td>0.248</td>\n",
       "      <td>0.772</td>\n",
       "      <td>0.909</td>\n",
       "      <td>-0.689</td>\n",
       "      <td>-0.328</td>\n",
       "      <td>-0.139</td>\n",
       "      <td>-0.055</td>\n",
       "      <td>-0.060</td>\n",
       "      <td>378.660</td>\n",
       "      <td>0</td>\n",
       "    </tr>\n",
       "    <tr>\n",
       "      <th>3</th>\n",
       "      <td>1.000</td>\n",
       "      <td>-0.966</td>\n",
       "      <td>-0.185</td>\n",
       "      <td>1.793</td>\n",
       "      <td>-0.863</td>\n",
       "      <td>-0.010</td>\n",
       "      <td>1.247</td>\n",
       "      <td>0.238</td>\n",
       "      <td>0.377</td>\n",
       "      <td>-1.387</td>\n",
       "      <td>-0.055</td>\n",
       "      <td>-0.226</td>\n",
       "      <td>0.178</td>\n",
       "      <td>0.508</td>\n",
       "      <td>-0.288</td>\n",
       "      <td>-0.631</td>\n",
       "      <td>-1.060</td>\n",
       "      <td>-0.684</td>\n",
       "      <td>1.966</td>\n",
       "      <td>-1.233</td>\n",
       "      <td>-0.208</td>\n",
       "      <td>-0.108</td>\n",
       "      <td>0.005</td>\n",
       "      <td>-0.190</td>\n",
       "      <td>-1.176</td>\n",
       "      <td>0.647</td>\n",
       "      <td>-0.222</td>\n",
       "      <td>0.063</td>\n",
       "      <td>0.061</td>\n",
       "      <td>123.500</td>\n",
       "      <td>0</td>\n",
       "    </tr>\n",
       "    <tr>\n",
       "      <th>4</th>\n",
       "      <td>2.000</td>\n",
       "      <td>-1.158</td>\n",
       "      <td>0.878</td>\n",
       "      <td>1.549</td>\n",
       "      <td>0.403</td>\n",
       "      <td>-0.407</td>\n",
       "      <td>0.096</td>\n",
       "      <td>0.593</td>\n",
       "      <td>-0.271</td>\n",
       "      <td>0.818</td>\n",
       "      <td>0.753</td>\n",
       "      <td>-0.823</td>\n",
       "      <td>0.538</td>\n",
       "      <td>1.346</td>\n",
       "      <td>-1.120</td>\n",
       "      <td>0.175</td>\n",
       "      <td>-0.451</td>\n",
       "      <td>-0.237</td>\n",
       "      <td>-0.038</td>\n",
       "      <td>0.803</td>\n",
       "      <td>0.409</td>\n",
       "      <td>-0.009</td>\n",
       "      <td>0.798</td>\n",
       "      <td>-0.137</td>\n",
       "      <td>0.141</td>\n",
       "      <td>-0.206</td>\n",
       "      <td>0.502</td>\n",
       "      <td>0.219</td>\n",
       "      <td>0.215</td>\n",
       "      <td>69.990</td>\n",
       "      <td>0</td>\n",
       "    </tr>\n",
       "  </tbody>\n",
       "</table>\n",
       "</div>"
      ],
      "text/plain": [
       "   Time     V1     V2    V3     V4     V5     V6     V7     V8     V9    V10  \\\n",
       "0 0.000 -1.360 -0.073 2.536  1.378 -0.338  0.462  0.240  0.099  0.364  0.091   \n",
       "1 0.000  1.192  0.266 0.166  0.448  0.060 -0.082 -0.079  0.085 -0.255 -0.167   \n",
       "2 1.000 -1.358 -1.340 1.773  0.380 -0.503  1.800  0.791  0.248 -1.515  0.208   \n",
       "3 1.000 -0.966 -0.185 1.793 -0.863 -0.010  1.247  0.238  0.377 -1.387 -0.055   \n",
       "4 2.000 -1.158  0.878 1.549  0.403 -0.407  0.096  0.593 -0.271  0.818  0.753   \n",
       "\n",
       "     V11    V12    V13    V14    V15    V16    V17    V18    V19    V20  \\\n",
       "0 -0.552 -0.618 -0.991 -0.311  1.468 -0.470  0.208  0.026  0.404  0.251   \n",
       "1  1.613  1.065  0.489 -0.144  0.636  0.464 -0.115 -0.183 -0.146 -0.069   \n",
       "2  0.625  0.066  0.717 -0.166  2.346 -2.890  1.110 -0.121 -2.262  0.525   \n",
       "3 -0.226  0.178  0.508 -0.288 -0.631 -1.060 -0.684  1.966 -1.233 -0.208   \n",
       "4 -0.823  0.538  1.346 -1.120  0.175 -0.451 -0.237 -0.038  0.803  0.409   \n",
       "\n",
       "     V21    V22    V23    V24    V25    V26    V27    V28  Amount  Class  \n",
       "0 -0.018  0.278 -0.110  0.067  0.129 -0.189  0.134 -0.021 149.620      0  \n",
       "1 -0.226 -0.639  0.101 -0.340  0.167  0.126 -0.009  0.015   2.690      0  \n",
       "2  0.248  0.772  0.909 -0.689 -0.328 -0.139 -0.055 -0.060 378.660      0  \n",
       "3 -0.108  0.005 -0.190 -1.176  0.647 -0.222  0.063  0.061 123.500      0  \n",
       "4 -0.009  0.798 -0.137  0.141 -0.206  0.502  0.219  0.215  69.990      0  "
      ]
     },
     "execution_count": 5,
     "metadata": {},
     "output_type": "execute_result"
    }
   ],
   "source": [
    "data.head()"
   ]
  },
  {
   "cell_type": "markdown",
   "id": "ec5a6e3f",
   "metadata": {},
   "source": [
    "# 2. EDA"
   ]
  },
  {
   "cell_type": "code",
   "execution_count": 39,
   "id": "00d47ef3",
   "metadata": {},
   "outputs": [
    {
     "name": "stdout",
     "output_type": "stream",
     "text": [
      "<class 'pandas.core.frame.DataFrame'>\n",
      "RangeIndex: 284807 entries, 0 to 284806\n",
      "Data columns (total 31 columns):\n",
      " #   Column  Non-Null Count   Dtype  \n",
      "---  ------  --------------   -----  \n",
      " 0   Time    284807 non-null  float64\n",
      " 1   V1      284807 non-null  float64\n",
      " 2   V2      284807 non-null  float64\n",
      " 3   V3      284807 non-null  float64\n",
      " 4   V4      284807 non-null  float64\n",
      " 5   V5      284807 non-null  float64\n",
      " 6   V6      284807 non-null  float64\n",
      " 7   V7      284807 non-null  float64\n",
      " 8   V8      284807 non-null  float64\n",
      " 9   V9      284807 non-null  float64\n",
      " 10  V10     284807 non-null  float64\n",
      " 11  V11     284807 non-null  float64\n",
      " 12  V12     284807 non-null  float64\n",
      " 13  V13     284807 non-null  float64\n",
      " 14  V14     284807 non-null  float64\n",
      " 15  V15     284807 non-null  float64\n",
      " 16  V16     284807 non-null  float64\n",
      " 17  V17     284807 non-null  float64\n",
      " 18  V18     284807 non-null  float64\n",
      " 19  V19     284807 non-null  float64\n",
      " 20  V20     284807 non-null  float64\n",
      " 21  V21     284807 non-null  float64\n",
      " 22  V22     284807 non-null  float64\n",
      " 23  V23     284807 non-null  float64\n",
      " 24  V24     284807 non-null  float64\n",
      " 25  V25     284807 non-null  float64\n",
      " 26  V26     284807 non-null  float64\n",
      " 27  V27     284807 non-null  float64\n",
      " 28  V28     284807 non-null  float64\n",
      " 29  Amount  284807 non-null  float64\n",
      " 30  Class   284807 non-null  int64  \n",
      "dtypes: float64(30), int64(1)\n",
      "memory usage: 67.4 MB\n"
     ]
    }
   ],
   "source": [
    "data.info()"
   ]
  },
  {
   "cell_type": "code",
   "execution_count": 40,
   "id": "8852b133",
   "metadata": {},
   "outputs": [
    {
     "data": {
      "text/plain": [
       "(284807, 31)"
      ]
     },
     "execution_count": 40,
     "metadata": {},
     "output_type": "execute_result"
    }
   ],
   "source": [
    "data.shape"
   ]
  },
  {
   "cell_type": "markdown",
   "id": "21628d7f",
   "metadata": {},
   "source": [
    "데이터셋은 31개의 열과 284807개의 개체로 이루어져 있습니다."
   ]
  },
  {
   "cell_type": "code",
   "execution_count": 43,
   "id": "d0ab6211",
   "metadata": {
    "scrolled": true
   },
   "outputs": [
    {
     "data": {
      "text/plain": [
       "0"
      ]
     },
     "execution_count": 43,
     "metadata": {},
     "output_type": "execute_result"
    }
   ],
   "source": [
    "data.isna().sum().max()"
   ]
  },
  {
   "cell_type": "markdown",
   "id": "6c8541da",
   "metadata": {},
   "source": [
    "결측치는 발견되지 않았습니다."
   ]
  },
  {
   "cell_type": "code",
   "execution_count": 68,
   "id": "40f63e8e",
   "metadata": {
    "scrolled": true
   },
   "outputs": [
    {
     "data": {
      "text/html": [
       "<div>\n",
       "<style scoped>\n",
       "    .dataframe tbody tr th:only-of-type {\n",
       "        vertical-align: middle;\n",
       "    }\n",
       "\n",
       "    .dataframe tbody tr th {\n",
       "        vertical-align: top;\n",
       "    }\n",
       "\n",
       "    .dataframe thead th {\n",
       "        text-align: right;\n",
       "    }\n",
       "</style>\n",
       "<table border=\"1\" class=\"dataframe\">\n",
       "  <thead>\n",
       "    <tr style=\"text-align: right;\">\n",
       "      <th></th>\n",
       "      <th>Time</th>\n",
       "      <th>V1</th>\n",
       "      <th>V2</th>\n",
       "      <th>V3</th>\n",
       "      <th>V4</th>\n",
       "      <th>V5</th>\n",
       "      <th>V6</th>\n",
       "      <th>V7</th>\n",
       "      <th>V8</th>\n",
       "      <th>V9</th>\n",
       "      <th>V10</th>\n",
       "      <th>V11</th>\n",
       "      <th>V12</th>\n",
       "      <th>V13</th>\n",
       "      <th>V14</th>\n",
       "      <th>V15</th>\n",
       "      <th>V16</th>\n",
       "      <th>V17</th>\n",
       "      <th>V18</th>\n",
       "      <th>V19</th>\n",
       "      <th>V20</th>\n",
       "      <th>V21</th>\n",
       "      <th>V22</th>\n",
       "      <th>V23</th>\n",
       "      <th>V24</th>\n",
       "      <th>V25</th>\n",
       "      <th>V26</th>\n",
       "      <th>V27</th>\n",
       "      <th>V28</th>\n",
       "      <th>Amount</th>\n",
       "      <th>Class</th>\n",
       "    </tr>\n",
       "  </thead>\n",
       "  <tbody>\n",
       "    <tr>\n",
       "      <th>count</th>\n",
       "      <td>284807.000</td>\n",
       "      <td>284807.000</td>\n",
       "      <td>284807.000</td>\n",
       "      <td>284807.000</td>\n",
       "      <td>284807.000</td>\n",
       "      <td>284807.000</td>\n",
       "      <td>284807.000</td>\n",
       "      <td>284807.000</td>\n",
       "      <td>284807.000</td>\n",
       "      <td>284807.000</td>\n",
       "      <td>284807.000</td>\n",
       "      <td>284807.000</td>\n",
       "      <td>284807.000</td>\n",
       "      <td>284807.000</td>\n",
       "      <td>284807.000</td>\n",
       "      <td>284807.000</td>\n",
       "      <td>284807.000</td>\n",
       "      <td>284807.000</td>\n",
       "      <td>284807.000</td>\n",
       "      <td>284807.000</td>\n",
       "      <td>284807.000</td>\n",
       "      <td>284807.000</td>\n",
       "      <td>284807.000</td>\n",
       "      <td>284807.000</td>\n",
       "      <td>284807.000</td>\n",
       "      <td>284807.000</td>\n",
       "      <td>284807.000</td>\n",
       "      <td>284807.000</td>\n",
       "      <td>284807.000</td>\n",
       "      <td>284807.000</td>\n",
       "      <td>284807.000</td>\n",
       "    </tr>\n",
       "    <tr>\n",
       "      <th>mean</th>\n",
       "      <td>94813.860</td>\n",
       "      <td>0.000</td>\n",
       "      <td>0.000</td>\n",
       "      <td>-0.000</td>\n",
       "      <td>0.000</td>\n",
       "      <td>-0.000</td>\n",
       "      <td>0.000</td>\n",
       "      <td>-0.000</td>\n",
       "      <td>-0.000</td>\n",
       "      <td>-0.000</td>\n",
       "      <td>0.000</td>\n",
       "      <td>0.000</td>\n",
       "      <td>-0.000</td>\n",
       "      <td>0.000</td>\n",
       "      <td>0.000</td>\n",
       "      <td>0.000</td>\n",
       "      <td>0.000</td>\n",
       "      <td>-0.000</td>\n",
       "      <td>0.000</td>\n",
       "      <td>0.000</td>\n",
       "      <td>0.000</td>\n",
       "      <td>0.000</td>\n",
       "      <td>0.000</td>\n",
       "      <td>0.000</td>\n",
       "      <td>0.000</td>\n",
       "      <td>0.000</td>\n",
       "      <td>0.000</td>\n",
       "      <td>-0.000</td>\n",
       "      <td>-0.000</td>\n",
       "      <td>88.350</td>\n",
       "      <td>0.002</td>\n",
       "    </tr>\n",
       "    <tr>\n",
       "      <th>std</th>\n",
       "      <td>47488.146</td>\n",
       "      <td>1.959</td>\n",
       "      <td>1.651</td>\n",
       "      <td>1.516</td>\n",
       "      <td>1.416</td>\n",
       "      <td>1.380</td>\n",
       "      <td>1.332</td>\n",
       "      <td>1.237</td>\n",
       "      <td>1.194</td>\n",
       "      <td>1.099</td>\n",
       "      <td>1.089</td>\n",
       "      <td>1.021</td>\n",
       "      <td>0.999</td>\n",
       "      <td>0.995</td>\n",
       "      <td>0.959</td>\n",
       "      <td>0.915</td>\n",
       "      <td>0.876</td>\n",
       "      <td>0.849</td>\n",
       "      <td>0.838</td>\n",
       "      <td>0.814</td>\n",
       "      <td>0.771</td>\n",
       "      <td>0.735</td>\n",
       "      <td>0.726</td>\n",
       "      <td>0.624</td>\n",
       "      <td>0.606</td>\n",
       "      <td>0.521</td>\n",
       "      <td>0.482</td>\n",
       "      <td>0.404</td>\n",
       "      <td>0.330</td>\n",
       "      <td>250.120</td>\n",
       "      <td>0.042</td>\n",
       "    </tr>\n",
       "    <tr>\n",
       "      <th>min</th>\n",
       "      <td>0.000</td>\n",
       "      <td>-56.408</td>\n",
       "      <td>-72.716</td>\n",
       "      <td>-48.326</td>\n",
       "      <td>-5.683</td>\n",
       "      <td>-113.743</td>\n",
       "      <td>-26.161</td>\n",
       "      <td>-43.557</td>\n",
       "      <td>-73.217</td>\n",
       "      <td>-13.434</td>\n",
       "      <td>-24.588</td>\n",
       "      <td>-4.797</td>\n",
       "      <td>-18.684</td>\n",
       "      <td>-5.792</td>\n",
       "      <td>-19.214</td>\n",
       "      <td>-4.499</td>\n",
       "      <td>-14.130</td>\n",
       "      <td>-25.163</td>\n",
       "      <td>-9.499</td>\n",
       "      <td>-7.214</td>\n",
       "      <td>-54.498</td>\n",
       "      <td>-34.830</td>\n",
       "      <td>-10.933</td>\n",
       "      <td>-44.808</td>\n",
       "      <td>-2.837</td>\n",
       "      <td>-10.295</td>\n",
       "      <td>-2.605</td>\n",
       "      <td>-22.566</td>\n",
       "      <td>-15.430</td>\n",
       "      <td>0.000</td>\n",
       "      <td>0.000</td>\n",
       "    </tr>\n",
       "    <tr>\n",
       "      <th>25%</th>\n",
       "      <td>54201.500</td>\n",
       "      <td>-0.920</td>\n",
       "      <td>-0.599</td>\n",
       "      <td>-0.890</td>\n",
       "      <td>-0.849</td>\n",
       "      <td>-0.692</td>\n",
       "      <td>-0.768</td>\n",
       "      <td>-0.554</td>\n",
       "      <td>-0.209</td>\n",
       "      <td>-0.643</td>\n",
       "      <td>-0.535</td>\n",
       "      <td>-0.762</td>\n",
       "      <td>-0.406</td>\n",
       "      <td>-0.649</td>\n",
       "      <td>-0.426</td>\n",
       "      <td>-0.583</td>\n",
       "      <td>-0.468</td>\n",
       "      <td>-0.484</td>\n",
       "      <td>-0.499</td>\n",
       "      <td>-0.456</td>\n",
       "      <td>-0.212</td>\n",
       "      <td>-0.228</td>\n",
       "      <td>-0.542</td>\n",
       "      <td>-0.162</td>\n",
       "      <td>-0.355</td>\n",
       "      <td>-0.317</td>\n",
       "      <td>-0.327</td>\n",
       "      <td>-0.071</td>\n",
       "      <td>-0.053</td>\n",
       "      <td>5.600</td>\n",
       "      <td>0.000</td>\n",
       "    </tr>\n",
       "    <tr>\n",
       "      <th>50%</th>\n",
       "      <td>84692.000</td>\n",
       "      <td>0.018</td>\n",
       "      <td>0.065</td>\n",
       "      <td>0.180</td>\n",
       "      <td>-0.020</td>\n",
       "      <td>-0.054</td>\n",
       "      <td>-0.274</td>\n",
       "      <td>0.040</td>\n",
       "      <td>0.022</td>\n",
       "      <td>-0.051</td>\n",
       "      <td>-0.093</td>\n",
       "      <td>-0.033</td>\n",
       "      <td>0.140</td>\n",
       "      <td>-0.014</td>\n",
       "      <td>0.051</td>\n",
       "      <td>0.048</td>\n",
       "      <td>0.066</td>\n",
       "      <td>-0.066</td>\n",
       "      <td>-0.004</td>\n",
       "      <td>0.004</td>\n",
       "      <td>-0.062</td>\n",
       "      <td>-0.029</td>\n",
       "      <td>0.007</td>\n",
       "      <td>-0.011</td>\n",
       "      <td>0.041</td>\n",
       "      <td>0.017</td>\n",
       "      <td>-0.052</td>\n",
       "      <td>0.001</td>\n",
       "      <td>0.011</td>\n",
       "      <td>22.000</td>\n",
       "      <td>0.000</td>\n",
       "    </tr>\n",
       "    <tr>\n",
       "      <th>75%</th>\n",
       "      <td>139320.500</td>\n",
       "      <td>1.316</td>\n",
       "      <td>0.804</td>\n",
       "      <td>1.027</td>\n",
       "      <td>0.743</td>\n",
       "      <td>0.612</td>\n",
       "      <td>0.399</td>\n",
       "      <td>0.570</td>\n",
       "      <td>0.327</td>\n",
       "      <td>0.597</td>\n",
       "      <td>0.454</td>\n",
       "      <td>0.740</td>\n",
       "      <td>0.618</td>\n",
       "      <td>0.663</td>\n",
       "      <td>0.493</td>\n",
       "      <td>0.649</td>\n",
       "      <td>0.523</td>\n",
       "      <td>0.400</td>\n",
       "      <td>0.501</td>\n",
       "      <td>0.459</td>\n",
       "      <td>0.133</td>\n",
       "      <td>0.186</td>\n",
       "      <td>0.529</td>\n",
       "      <td>0.148</td>\n",
       "      <td>0.440</td>\n",
       "      <td>0.351</td>\n",
       "      <td>0.241</td>\n",
       "      <td>0.091</td>\n",
       "      <td>0.078</td>\n",
       "      <td>77.165</td>\n",
       "      <td>0.000</td>\n",
       "    </tr>\n",
       "    <tr>\n",
       "      <th>max</th>\n",
       "      <td>172792.000</td>\n",
       "      <td>2.455</td>\n",
       "      <td>22.058</td>\n",
       "      <td>9.383</td>\n",
       "      <td>16.875</td>\n",
       "      <td>34.802</td>\n",
       "      <td>73.302</td>\n",
       "      <td>120.589</td>\n",
       "      <td>20.007</td>\n",
       "      <td>15.595</td>\n",
       "      <td>23.745</td>\n",
       "      <td>12.019</td>\n",
       "      <td>7.848</td>\n",
       "      <td>7.127</td>\n",
       "      <td>10.527</td>\n",
       "      <td>8.878</td>\n",
       "      <td>17.315</td>\n",
       "      <td>9.254</td>\n",
       "      <td>5.041</td>\n",
       "      <td>5.592</td>\n",
       "      <td>39.421</td>\n",
       "      <td>27.203</td>\n",
       "      <td>10.503</td>\n",
       "      <td>22.528</td>\n",
       "      <td>4.585</td>\n",
       "      <td>7.520</td>\n",
       "      <td>3.517</td>\n",
       "      <td>31.612</td>\n",
       "      <td>33.848</td>\n",
       "      <td>25691.160</td>\n",
       "      <td>1.000</td>\n",
       "    </tr>\n",
       "  </tbody>\n",
       "</table>\n",
       "</div>"
      ],
      "text/plain": [
       "            Time         V1         V2         V3         V4         V5  \\\n",
       "count 284807.000 284807.000 284807.000 284807.000 284807.000 284807.000   \n",
       "mean   94813.860      0.000      0.000     -0.000      0.000     -0.000   \n",
       "std    47488.146      1.959      1.651      1.516      1.416      1.380   \n",
       "min        0.000    -56.408    -72.716    -48.326     -5.683   -113.743   \n",
       "25%    54201.500     -0.920     -0.599     -0.890     -0.849     -0.692   \n",
       "50%    84692.000      0.018      0.065      0.180     -0.020     -0.054   \n",
       "75%   139320.500      1.316      0.804      1.027      0.743      0.612   \n",
       "max   172792.000      2.455     22.058      9.383     16.875     34.802   \n",
       "\n",
       "              V6         V7         V8         V9        V10        V11  \\\n",
       "count 284807.000 284807.000 284807.000 284807.000 284807.000 284807.000   \n",
       "mean       0.000     -0.000     -0.000     -0.000      0.000      0.000   \n",
       "std        1.332      1.237      1.194      1.099      1.089      1.021   \n",
       "min      -26.161    -43.557    -73.217    -13.434    -24.588     -4.797   \n",
       "25%       -0.768     -0.554     -0.209     -0.643     -0.535     -0.762   \n",
       "50%       -0.274      0.040      0.022     -0.051     -0.093     -0.033   \n",
       "75%        0.399      0.570      0.327      0.597      0.454      0.740   \n",
       "max       73.302    120.589     20.007     15.595     23.745     12.019   \n",
       "\n",
       "             V12        V13        V14        V15        V16        V17  \\\n",
       "count 284807.000 284807.000 284807.000 284807.000 284807.000 284807.000   \n",
       "mean      -0.000      0.000      0.000      0.000      0.000     -0.000   \n",
       "std        0.999      0.995      0.959      0.915      0.876      0.849   \n",
       "min      -18.684     -5.792    -19.214     -4.499    -14.130    -25.163   \n",
       "25%       -0.406     -0.649     -0.426     -0.583     -0.468     -0.484   \n",
       "50%        0.140     -0.014      0.051      0.048      0.066     -0.066   \n",
       "75%        0.618      0.663      0.493      0.649      0.523      0.400   \n",
       "max        7.848      7.127     10.527      8.878     17.315      9.254   \n",
       "\n",
       "             V18        V19        V20        V21        V22        V23  \\\n",
       "count 284807.000 284807.000 284807.000 284807.000 284807.000 284807.000   \n",
       "mean       0.000      0.000      0.000      0.000      0.000      0.000   \n",
       "std        0.838      0.814      0.771      0.735      0.726      0.624   \n",
       "min       -9.499     -7.214    -54.498    -34.830    -10.933    -44.808   \n",
       "25%       -0.499     -0.456     -0.212     -0.228     -0.542     -0.162   \n",
       "50%       -0.004      0.004     -0.062     -0.029      0.007     -0.011   \n",
       "75%        0.501      0.459      0.133      0.186      0.529      0.148   \n",
       "max        5.041      5.592     39.421     27.203     10.503     22.528   \n",
       "\n",
       "             V24        V25        V26        V27        V28     Amount  \\\n",
       "count 284807.000 284807.000 284807.000 284807.000 284807.000 284807.000   \n",
       "mean       0.000      0.000      0.000     -0.000     -0.000     88.350   \n",
       "std        0.606      0.521      0.482      0.404      0.330    250.120   \n",
       "min       -2.837    -10.295     -2.605    -22.566    -15.430      0.000   \n",
       "25%       -0.355     -0.317     -0.327     -0.071     -0.053      5.600   \n",
       "50%        0.041      0.017     -0.052      0.001      0.011     22.000   \n",
       "75%        0.440      0.351      0.241      0.091      0.078     77.165   \n",
       "max        4.585      7.520      3.517     31.612     33.848  25691.160   \n",
       "\n",
       "           Class  \n",
       "count 284807.000  \n",
       "mean       0.002  \n",
       "std        0.042  \n",
       "min        0.000  \n",
       "25%        0.000  \n",
       "50%        0.000  \n",
       "75%        0.000  \n",
       "max        1.000  "
      ]
     },
     "execution_count": 68,
     "metadata": {},
     "output_type": "execute_result"
    }
   ],
   "source": [
    "data.describe()"
   ]
  },
  {
   "cell_type": "markdown",
   "id": "a73eb1f7",
   "metadata": {},
   "source": [
    "데이터셋의 각 변수들의 기초 통계량을 확인해 본 바에 따르면, 많은 변수들의 분포가 심하게 왜곡되어 있는 것을 확인할 수 있습니다. 익명처리된 다른 변수들은 평균 0, 표준편차 약 1 내외로 변환된 것과는 달리 Time과 Amount 변수는 추후에 Scaling이 필요해 보입니다. <br>\n",
    "익명처리된 변수에 대한 정보가 없기 때문에 추가로 더 필요한 Feature engineering은 없을 것으로 보입니다."
   ]
  },
  {
   "cell_type": "code",
   "execution_count": 58,
   "id": "28014431",
   "metadata": {
    "scrolled": true
   },
   "outputs": [
    {
     "data": {
      "text/plain": [
       "0    284315\n",
       "1       492\n",
       "Name: Class, dtype: int64"
      ]
     },
     "execution_count": 58,
     "metadata": {},
     "output_type": "execute_result"
    },
    {
     "name": "stdout",
     "output_type": "stream",
     "text": [
      "-------------------------------\n",
      "No frauds: 99.83 % of the dataset\n",
      "Frauds: 0.17 % of the dataset\n"
     ]
    }
   ],
   "source": [
    "data['Class'].value_counts()\n",
    "print('-------------------------------')\n",
    "print(\"No frauds:\", round(data['Class'].value_counts(normalize=True)[0], 4) * 100, \"% of the dataset\")\n",
    "print(\"Frauds:\", round(data['Class'].value_counts(normalize=True)[1] * 100, 2), \"% of the dataset\")"
   ]
  },
  {
   "cell_type": "code",
   "execution_count": 70,
   "id": "caa376ec",
   "metadata": {
    "scrolled": false
   },
   "outputs": [
    {
     "data": {
      "text/plain": [
       "<AxesSubplot:xlabel='Class', ylabel='count'>"
      ]
     },
     "execution_count": 70,
     "metadata": {},
     "output_type": "execute_result"
    },
    {
     "data": {
      "text/plain": [
       "Text(0.5, 1.0, 'Class distribution \\n (0: No fraud, 1: Fraud)')"
      ]
     },
     "execution_count": 70,
     "metadata": {},
     "output_type": "execute_result"
    },
    {
     "data": {
      "text/plain": [
       "([<matplotlib.axis.XTick at 0x2b05a343df0>,\n",
       "  <matplotlib.axis.XTick at 0x2b05a343610>],\n",
       " [Text(0, 0, 'Non-fraud'), Text(1, 0, 'Fraud')])"
      ]
     },
     "execution_count": 70,
     "metadata": {},
     "output_type": "execute_result"
    },
    {
     "data": {
      "image/png": "[encoded data removed]",
      "text/plain": [
       "<Figure size 432x288 with 1 Axes>"
      ]
     },
     "metadata": {
      "needs_background": "light"
     },
     "output_type": "display_data"
    }
   ],
   "source": [
    "sns.countplot(x='Class', data=data)\n",
    "plt.title(\"Class distribution \\n (0: No fraud, 1: Fraud)\")\n",
    "plt.xticks(range(2), ['Non-fraud', 'Fraud'])"
   ]
  },
  {
   "cell_type": "markdown",
   "id": "8adab4df",
   "metadata": {},
   "source": [
    "전체 284807개의 데이터 중 99.83%가 정상적인 사용이었으며, 오직 0.17% 만이 사기목적인 심하게 불균형한 데이터셋임을 확인할 수 있습니다."
   ]
  },
  {
   "cell_type": "code",
   "execution_count": null,
   "id": "892e50a6",
   "metadata": {},
   "outputs": [],
   "source": [
    "fradata['Class'] == 1"
   ]
  },
  {
   "cell_type": "code",
   "execution_count": 64,
   "id": "a4a91c23",
   "metadata": {
    "scrolled": false
   },
   "outputs": [
    {
     "data": {
      "text/plain": [
       "array([[<AxesSubplot:title={'center':'Time'}>,\n",
       "        <AxesSubplot:title={'center':'V1'}>,\n",
       "        <AxesSubplot:title={'center':'V2'}>,\n",
       "        <AxesSubplot:title={'center':'V3'}>,\n",
       "        <AxesSubplot:title={'center':'V4'}>],\n",
       "       [<AxesSubplot:title={'center':'V5'}>,\n",
       "        <AxesSubplot:title={'center':'V6'}>,\n",
       "        <AxesSubplot:title={'center':'V7'}>,\n",
       "        <AxesSubplot:title={'center':'V8'}>,\n",
       "        <AxesSubplot:title={'center':'V9'}>],\n",
       "       [<AxesSubplot:title={'center':'V10'}>,\n",
       "        <AxesSubplot:title={'center':'V11'}>,\n",
       "        <AxesSubplot:title={'center':'V12'}>,\n",
       "        <AxesSubplot:title={'center':'V13'}>,\n",
       "        <AxesSubplot:title={'center':'V14'}>],\n",
       "       [<AxesSubplot:title={'center':'V15'}>,\n",
       "        <AxesSubplot:title={'center':'V16'}>,\n",
       "        <AxesSubplot:title={'center':'V17'}>,\n",
       "        <AxesSubplot:title={'center':'V18'}>,\n",
       "        <AxesSubplot:title={'center':'V19'}>],\n",
       "       [<AxesSubplot:title={'center':'V20'}>,\n",
       "        <AxesSubplot:title={'center':'V21'}>,\n",
       "        <AxesSubplot:title={'center':'V22'}>,\n",
       "        <AxesSubplot:title={'center':'V23'}>,\n",
       "        <AxesSubplot:title={'center':'V24'}>],\n",
       "       [<AxesSubplot:title={'center':'V25'}>,\n",
       "        <AxesSubplot:title={'center':'V26'}>,\n",
       "        <AxesSubplot:title={'center':'V27'}>,\n",
       "        <AxesSubplot:title={'center':'V28'}>,\n",
       "        <AxesSubplot:title={'center':'Amount'}>]], dtype=object)"
      ]
     },
     "execution_count": 64,
     "metadata": {},
     "output_type": "execute_result"
    },
    {
     "data": {
      "image/png": "[encoded data removed]",
      "text/plain": [
       "<Figure size 1440x1440 with 30 Axes>"
      ]
     },
     "metadata": {
      "needs_background": "light"
     },
     "output_type": "display_data"
    }
   ],
   "source": [
    "data.drop('Class', axis=1).hist(figsize=(20,20), bins=50)"
   ]
  },
  {
   "cell_type": "markdown",
   "id": "4493d3c5",
   "metadata": {},
   "source": [
    "각 독립변수들의 분포를 히스토그램을 활용하여 시각화 하였습니다. 많은 변수들이 분포가 심하게 왜곡되어 있음을 확인할 수 있습니다."
   ]
  },
  {
   "cell_type": "code",
   "execution_count": 92,
   "id": "b50b3e1a",
   "metadata": {},
   "outputs": [],
   "source": [
    "corr = data.corr()"
   ]
  },
  {
   "cell_type": "code",
   "execution_count": 94,
   "id": "0493df0b",
   "metadata": {},
   "outputs": [
    {
     "data": {
      "text/plain": [
       "<Figure size 1296x1008 with 0 Axes>"
      ]
     },
     "execution_count": 94,
     "metadata": {},
     "output_type": "execute_result"
    },
    {
     "data": {
      "text/plain": [
       "<AxesSubplot:>"
      ]
     },
     "execution_count": 94,
     "metadata": {},
     "output_type": "execute_result"
    },
    {
     "data": {
      "image/png": "[encoded data removed]",
      "text/plain": [
       "<Figure size 1296x1008 with 2 Axes>"
      ]
     },
     "metadata": {
      "needs_background": "light"
     },
     "output_type": "display_data"
    }
   ],
   "source": [
    "plt.figure(figsize=(18, 14))\n",
    "mask_corr = np.triu(np.ones_like(corr, dtype=bool))\n",
    "\n",
    "sns.heatmap(corr,\n",
    "           mask=mask_corr,\n",
    "           annot=True,\n",
    "           center=0, cmap='seismic',\n",
    "           fmt='.2f',\n",
    "           linewidths=1)"
   ]
  },
  {
   "cell_type": "markdown",
   "id": "e3a14210",
   "metadata": {},
   "source": [
    "변수간 상관관계가 가장 높은 변수들\n",
    "> Time & V3 (-0.42) <br>\n",
    "> Amount & V2 (-0.53) <br>\n",
    "> Amount & V4 (0.4)"
   ]
  },
  {
   "cell_type": "markdown",
   "id": "d9f1683d",
   "metadata": {},
   "source": [
    "이들 변수의 상관관계가 높은 편이긴 하나 다중공선성을 가질 정도로 높은 수준은 아닌 것으로 예상됩니다."
   ]
  },
  {
   "cell_type": "markdown",
   "id": "240cd975",
   "metadata": {},
   "source": [
    "# 3. Feature engineering"
   ]
  },
  {
   "cell_type": "markdown",
   "id": "f31b2a96",
   "metadata": {},
   "source": [
    "## Splitting the dataset"
   ]
  },
  {
   "cell_type": "code",
   "execution_count": 10,
   "id": "c9ad931a",
   "metadata": {},
   "outputs": [],
   "source": [
    "X = data.drop('Class', axis=1)\n",
    "y = data['Class']\n",
    "\n",
    "scaler = StandardScaler()\n",
    "\n",
    "X_train, X_test, y_train, y_test = train_test_split(X, y, test_size=0.3, random_state=802, stratify=y)\n",
    "\n",
    "X_train = scaler.fit_transform(X_train)\n",
    "X_test = scaler.transform(X_test)"
   ]
  },
  {
   "cell_type": "code",
   "execution_count": 8,
   "id": "8d0bbb6c",
   "metadata": {},
   "outputs": [
    {
     "data": {
      "text/plain": [
       "(199364, 30)"
      ]
     },
     "execution_count": 8,
     "metadata": {},
     "output_type": "execute_result"
    },
    {
     "data": {
      "text/plain": [
       "(85443, 30)"
      ]
     },
     "execution_count": 8,
     "metadata": {},
     "output_type": "execute_result"
    }
   ],
   "source": [
    "X_train.shape\n",
    "X_test.shape"
   ]
  },
  {
   "cell_type": "code",
   "execution_count": 9,
   "id": "e05a7132",
   "metadata": {},
   "outputs": [
    {
     "data": {
      "text/plain": [
       "0   0.998\n",
       "1   0.002\n",
       "Name: Class, dtype: float64"
      ]
     },
     "execution_count": 9,
     "metadata": {},
     "output_type": "execute_result"
    },
    {
     "data": {
      "text/plain": [
       "0   0.998\n",
       "1   0.002\n",
       "Name: Class, dtype: float64"
      ]
     },
     "execution_count": 9,
     "metadata": {},
     "output_type": "execute_result"
    }
   ],
   "source": [
    "y_train.value_counts(normalize=True)\n",
    "y_test.value_counts(normalize=True)"
   ]
  },
  {
   "cell_type": "markdown",
   "id": "bccbf159",
   "metadata": {},
   "source": [
    "데이터셋을 Training 데이터와 Test 데이터로 7:3으로 분할한 후 Scaling 하였습니다."
   ]
  },
  {
   "cell_type": "markdown",
   "id": "4c7df50d",
   "metadata": {},
   "source": [
    "## SMOTE Sampling"
   ]
  },
  {
   "cell_type": "code",
   "execution_count": 11,
   "id": "9094b249",
   "metadata": {},
   "outputs": [],
   "source": [
    "smote = SMOTE()\n",
    "\n",
    "X_train_re, y_train_re = smote.fit_resample(X_train, y_train)"
   ]
  },
  {
   "cell_type": "code",
   "execution_count": 51,
   "id": "0e93cd79",
   "metadata": {},
   "outputs": [
    {
     "data": {
      "text/plain": [
       "<AxesSubplot:xlabel='Class', ylabel='count'>"
      ]
     },
     "execution_count": 51,
     "metadata": {},
     "output_type": "execute_result"
    },
    {
     "data": {
      "text/plain": [
       "Text(0.5, 1.0, 'Before SMOTE')"
      ]
     },
     "execution_count": 51,
     "metadata": {},
     "output_type": "execute_result"
    },
    {
     "data": {
      "text/plain": [
       "<AxesSubplot:xlabel='Class', ylabel='count'>"
      ]
     },
     "execution_count": 51,
     "metadata": {},
     "output_type": "execute_result"
    },
    {
     "data": {
      "text/plain": [
       "Text(0.5, 1.0, 'After SMOTE')"
      ]
     },
     "execution_count": 51,
     "metadata": {},
     "output_type": "execute_result"
    },
    {
     "data": {
      "image/png": "[encoded data removed]",
      "text/plain": [
       "<Figure size 720x288 with 2 Axes>"
      ]
     },
     "metadata": {
      "needs_background": "light"
     },
     "output_type": "display_data"
    }
   ],
   "source": [
    "fig, axes = plt.subplots(1, 2, figsize=(10,4))\n",
    "sns.countplot(y_train, ax=axes[0])\n",
    "axes[0].set_title(\"Before SMOTE\")\n",
    "\n",
    "sns.countplot(y_train_re, ax=axes[1])\n",
    "axes[1].set_title(\"After SMOTE\")\n",
    "\n",
    "fig.tight_layout()"
   ]
  },
  {
   "cell_type": "markdown",
   "id": "ff2f8f2e",
   "metadata": {},
   "source": [
    "SMOTE 알고리즘을 이용하여 소수 클래스(Fraud)를 합성하여 Oversampling 하였습니다."
   ]
  },
  {
   "cell_type": "markdown",
   "id": "4bf3d9c3",
   "metadata": {},
   "source": [
    "# 4. Modeling"
   ]
  },
  {
   "cell_type": "markdown",
   "id": "53a98c3e",
   "metadata": {},
   "source": [
    "## Logistic Regression"
   ]
  },
  {
   "cell_type": "code",
   "execution_count": 53,
   "id": "635b589f",
   "metadata": {},
   "outputs": [
    {
     "data": {
      "text/plain": [
       "LogisticRegression(random_state=802)"
      ]
     },
     "execution_count": 53,
     "metadata": {},
     "output_type": "execute_result"
    }
   ],
   "source": [
    "logres = LogisticRegression(random_state=802)\n",
    "\n",
    "logres.fit(X_train_re, y_train_re)\n",
    "\n",
    "pickle.dump(logres, open('logres_model.sav', 'wb'))"
   ]
  },
  {
   "cell_type": "code",
   "execution_count": 12,
   "id": "564920ac",
   "metadata": {},
   "outputs": [
    {
     "name": "stdout",
     "output_type": "stream",
     "text": [
      "\n",
      "Training set modeling Result:\n",
      "================================================\n",
      "[[193841   5179]\n",
      " [    29    315]]\n",
      "\n",
      "Accuracy Score: 97.38799999999999%\n",
      "AU Precision-Recall curve Score: 0.72346\n",
      "-----------------------------------------------\n",
      "              precision    recall  f1-score   support\n",
      "\n",
      "           0       1.00      0.97      0.99    199020\n",
      "           1       0.06      0.92      0.11       344\n",
      "\n",
      "    accuracy                           0.97    199364\n",
      "   macro avg       0.53      0.94      0.55    199364\n",
      "weighted avg       1.00      0.97      0.99    199364\n",
      "\n",
      "-----------------------------------------------\n"
     ]
    }
   ],
   "source": [
    "# 트레이닝 데이터에 대한 모델 성과평가\n",
    "print_score(y_train, logres.predict(X_train), logres.predict_proba(X_train)[:,1], \"Training\")"
   ]
  },
  {
   "cell_type": "code",
   "execution_count": 13,
   "id": "122b010b",
   "metadata": {},
   "outputs": [
    {
     "name": "stdout",
     "output_type": "stream",
     "text": [
      "\n",
      "Test set modeling Result:\n",
      "================================================\n",
      "[[83052  2243]\n",
      " [    9   139]]\n",
      "\n",
      "Accuracy Score: 97.36399999999999%\n",
      "AU Precision-Recall curve Score: 0.75338\n",
      "-----------------------------------------------\n",
      "              precision    recall  f1-score   support\n",
      "\n",
      "           0       1.00      0.97      0.99     85295\n",
      "           1       0.06      0.94      0.11       148\n",
      "\n",
      "    accuracy                           0.97     85443\n",
      "   macro avg       0.53      0.96      0.55     85443\n",
      "weighted avg       1.00      0.97      0.99     85443\n",
      "\n",
      "-----------------------------------------------\n"
     ]
    }
   ],
   "source": [
    "# 테스트 데이터에 대한 모델 성과평가\n",
    "print_score(y_test, logres.predict(X_test), logres.predict_proba(X_test)[:,1], \"Test\")"
   ]
  },
  {
   "cell_type": "code",
   "execution_count": 56,
   "id": "a100063f",
   "metadata": {},
   "outputs": [],
   "source": [
    "scores_dict = {\n",
    "    'Logistic regression':{\n",
    "        'Train':f1_score(y_train, logres.predict(X_train)).round(2),\n",
    "        'Test':f1_score(y_test, logres.predict(X_test)).round(2)\n",
    "    }\n",
    "}"
   ]
  },
  {
   "cell_type": "markdown",
   "id": "ebebbb99",
   "metadata": {},
   "source": [
    "**Performance evaluation of Logistic Regression** <br>\n",
    "* 트레이닝 세트 모델링 결과\n",
    "> Accuracy: 68.27% <br>\n",
    "AU Precision-Recall curve: 0.723 <br>\n",
    "F1: 0.11\n",
    "\n",
    "\n",
    "\n",
    "* 테스트 세트 모델링 결과\n",
    "> Accuracy: 68.223% <br>\n",
    "AU Precision-Recall curve: 0.753 <br>\n",
    "F1: 0.11"
   ]
  },
  {
   "cell_type": "markdown",
   "id": "a92e536c",
   "metadata": {},
   "source": [
    "## Random Forest"
   ]
  },
  {
   "cell_type": "code",
   "execution_count": 26,
   "id": "ea6d092d",
   "metadata": {},
   "outputs": [
    {
     "data": {
      "text/plain": [
       "GridSearchCV(cv=4, estimator=RandomForestClassifier(random_state=802),\n",
       "             n_jobs=-1,\n",
       "             param_grid={'max_depth': [5, 7], 'min_samples_leaf': [0.01, 0.05],\n",
       "                         'n_estimators': [500]},\n",
       "             scoring='roc_auc')"
      ]
     },
     "execution_count": 26,
     "metadata": {},
     "output_type": "execute_result"
    },
    {
     "name": "stdout",
     "output_type": "stream",
     "text": [
      "모델링 소요시간: 3303.49초\n"
     ]
    }
   ],
   "source": [
    "rf = RandomForestClassifier(random_state=802)\n",
    "\n",
    "param_grid_rf ={\n",
    "    'n_estimators':[500],\n",
    "    'max_depth':[7],\n",
    "    'min_samples_leaf':[0.01]\n",
    "}\n",
    "\n",
    "rf_grid = GridSearchCV(estimator=rf,\n",
    "                      param_grid=param_grid_rf,\n",
    "                      cv=4,\n",
    "                      scoring='roc_auc',\n",
    "                      n_jobs=-1)\n",
    "\n",
    "\n",
    "t0 = time.time()\n",
    "rf_grid.fit(X_train_re, y_train_re)\n",
    "t1 = time.time()\n",
    "\n",
    "\n",
    "\n",
    "print(f\"모델링 소요시간: {t1-t0:.2f}초\")\n",
    "\n",
    "pickle.dump(rf_grid, open('rf_model.sav', 'wb'))"
   ]
  },
  {
   "cell_type": "code",
   "execution_count": 14,
   "id": "e5990faf",
   "metadata": {},
   "outputs": [
    {
     "data": {
      "text/plain": [
       "{'max_depth': 7, 'min_samples_leaf': 0.01, 'n_estimators': 500}"
      ]
     },
     "execution_count": 14,
     "metadata": {},
     "output_type": "execute_result"
    },
    {
     "name": "stdout",
     "output_type": "stream",
     "text": [
      "\n",
      "Training set modeling Result:\n",
      "================================================\n",
      "[[197214   1806]\n",
      " [    39    305]]\n",
      "\n",
      "Accuracy Score: 99.075%\n",
      "AU Precision-Recall curve Score: 0.78934\n",
      "-----------------------------------------------\n",
      "              precision    recall  f1-score   support\n",
      "\n",
      "           0       1.00      0.99      1.00    199020\n",
      "           1       0.14      0.89      0.25       344\n",
      "\n",
      "    accuracy                           0.99    199364\n",
      "   macro avg       0.57      0.94      0.62    199364\n",
      "weighted avg       1.00      0.99      0.99    199364\n",
      "\n",
      "-----------------------------------------------\n"
     ]
    }
   ],
   "source": [
    "rf_grid.best_params_\n",
    "rf_best = rf_grid.best_estimator_\n",
    "\n",
    "# 트레이닝 데이터에 대한 모델 성과평가\n",
    "print_score(y_train, rf_best.predict(X_train), rf_best.predict_proba(X_train)[:, 1], \"Training\")"
   ]
  },
  {
   "cell_type": "code",
   "execution_count": 15,
   "id": "0f15228e",
   "metadata": {
    "scrolled": false
   },
   "outputs": [
    {
     "name": "stdout",
     "output_type": "stream",
     "text": [
      "\n",
      "Test set modeling Result:\n",
      "================================================\n",
      "[[84511   784]\n",
      " [   14   134]]\n",
      "\n",
      "Accuracy Score: 99.066%\n",
      "AU Precision-Recall curve Score: 0.81531\n",
      "-----------------------------------------------\n",
      "              precision    recall  f1-score   support\n",
      "\n",
      "           0       1.00      0.99      1.00     85295\n",
      "           1       0.15      0.91      0.25       148\n",
      "\n",
      "    accuracy                           0.99     85443\n",
      "   macro avg       0.57      0.95      0.62     85443\n",
      "weighted avg       1.00      0.99      0.99     85443\n",
      "\n",
      "-----------------------------------------------\n"
     ]
    }
   ],
   "source": [
    "# 테스트 데이터에 대한 모델 성과평가\n",
    "print_score(y_test, rf_best.predict(X_test), rf_best.predict_proba(X_test)[:, 1], \"Test\")"
   ]
  },
  {
   "cell_type": "code",
   "execution_count": 58,
   "id": "58ed3fbc",
   "metadata": {},
   "outputs": [],
   "source": [
    "scores_dict['Random Forest'] = {\n",
    "    'Train':f1_score(y_train, rf_best.predict(X_train)).round(2),\n",
    "    'Test':f1_score(y_test, rf_best.predict(X_test)).round(2)\n",
    "}"
   ]
  },
  {
   "cell_type": "markdown",
   "id": "9b1d2e47",
   "metadata": {},
   "source": [
    "**Performance evaluation of Random Forest** <br>\n",
    "* 트레이닝 세트 모델링 결과\n",
    "> Accuracy: 99.075% <br>\n",
    "AU Precision-Recall curve: 0.789 <br>\n",
    "F1: 0.25\n",
    "\n",
    "\n",
    "\n",
    "* 테스트 세트 모델링 결과\n",
    "> Accuracy: 99.066% <br>\n",
    "AU Precision-Recall curve: 0.815 <br>\n",
    "F1: 0.25"
   ]
  },
  {
   "cell_type": "markdown",
   "id": "619d3fd0",
   "metadata": {},
   "source": [
    "## XGBoosting"
   ]
  },
  {
   "cell_type": "code",
   "execution_count": 23,
   "id": "4d6cb500",
   "metadata": {},
   "outputs": [
    {
     "name": "stdout",
     "output_type": "stream",
     "text": [
      "[12:55:04] WARNING: C:/Users/Administrator/workspace/xgboost-win64_release_1.4.0/src/learner.cc:1095: Starting in XGBoost 1.3.0, the default evaluation metric used with the objective 'binary:logistic' was changed from 'error' to 'logloss'. Explicitly set eval_metric if you'd like to restore the old behavior.\n"
     ]
    },
    {
     "data": {
      "text/plain": [
       "XGBClassifier(base_score=0.5, booster='gbtree', colsample_bylevel=1,\n",
       "              colsample_bynode=1, colsample_bytree=1, gamma=0, gpu_id=-1,\n",
       "              importance_type='gain', interaction_constraints='',\n",
       "              learning_rate=0.300000012, max_delta_step=0, max_depth=6,\n",
       "              min_child_weight=1, missing=nan, monotone_constraints='()',\n",
       "              n_estimators=1000, n_jobs=-1, num_parallel_tree=1, random_state=0,\n",
       "              reg_alpha=0, reg_lambda=1, scale_pos_weight=1, subsample=1,\n",
       "              tree_method='exact', validate_parameters=1, verbosity=None)"
      ]
     },
     "execution_count": 23,
     "metadata": {},
     "output_type": "execute_result"
    },
    {
     "name": "stdout",
     "output_type": "stream",
     "text": [
      "모델링 소요시간: 736.74초\n"
     ]
    }
   ],
   "source": [
    "xgboosting = xgb.XGBClassifier(objective='binary:logistic',\n",
    "                               n_estimators=1000,\n",
    "                               n_jobs=-1)\n",
    "\n",
    "t0 = time.time()\n",
    "xgboosting.fit(X_train_re, y_train_re)\n",
    "t1 = time.time()\n",
    "\n",
    "print(f\"모델링 소요시간: {t1-t0:.2f}초\")\n",
    "\n",
    "pickle.dump(xgboosting, open('xgb_model.sav', 'wb'))"
   ]
  },
  {
   "cell_type": "code",
   "execution_count": 16,
   "id": "548f11a6",
   "metadata": {},
   "outputs": [
    {
     "name": "stdout",
     "output_type": "stream",
     "text": [
      "\n",
      "Training set modeling Result:\n",
      "================================================\n",
      "[[199020      0]\n",
      " [     0    344]]\n",
      "\n",
      "Accuracy Score: 100.0%\n",
      "AU Precision-Recall curve Score: 1.0\n",
      "-----------------------------------------------\n",
      "              precision    recall  f1-score   support\n",
      "\n",
      "           0       1.00      1.00      1.00    199020\n",
      "           1       1.00      1.00      1.00       344\n",
      "\n",
      "    accuracy                           1.00    199364\n",
      "   macro avg       1.00      1.00      1.00    199364\n",
      "weighted avg       1.00      1.00      1.00    199364\n",
      "\n",
      "-----------------------------------------------\n"
     ]
    }
   ],
   "source": [
    "# 트레이닝 데이터에 대한 모델 성과평가\n",
    "print_score(y_train, xgboosting.predict(X_train), xgboosting.predict_proba(X_train)[:,1], \"Training\")"
   ]
  },
  {
   "cell_type": "code",
   "execution_count": 17,
   "id": "3c768342",
   "metadata": {},
   "outputs": [
    {
     "name": "stdout",
     "output_type": "stream",
     "text": [
      "\n",
      "Test set modeling Result:\n",
      "================================================\n",
      "[[85267    28]\n",
      " [   19   129]]\n",
      "\n",
      "Accuracy Score: 99.945%\n",
      "AU Precision-Recall curve Score: 0.8825\n",
      "-----------------------------------------------\n",
      "              precision    recall  f1-score   support\n",
      "\n",
      "           0       1.00      1.00      1.00     85295\n",
      "           1       0.82      0.87      0.85       148\n",
      "\n",
      "    accuracy                           1.00     85443\n",
      "   macro avg       0.91      0.94      0.92     85443\n",
      "weighted avg       1.00      1.00      1.00     85443\n",
      "\n",
      "-----------------------------------------------\n"
     ]
    }
   ],
   "source": [
    "# 테스트 데이터에 대한 모델 성과평가\n",
    "print_score(y_test, xgboosting.predict(X_test), xgboosting.predict_proba(X_test)[:,1], \"Test\")"
   ]
  },
  {
   "cell_type": "markdown",
   "id": "c5229936",
   "metadata": {},
   "source": [
    "**Performance evaluation of XGBoosting** <br>\n",
    "* 트레이닝 세트 모델링 결과\n",
    "> Accuracy: 100% <br>\n",
    "AU Precision-Recall curve: 1.0 <br>\n",
    "F1: 1.0\n",
    "\n",
    "\n",
    "\n",
    "* 테스트 세트 모델링 결과\n",
    "> Accuracy: 99.945% <br>\n",
    "AU Precision-Recall curve: 0.8825 <br>\n",
    "F1: 0.85"
   ]
  },
  {
   "cell_type": "code",
   "execution_count": 62,
   "id": "7bb59855",
   "metadata": {},
   "outputs": [],
   "source": [
    "scores_dict['XGBoosting'] = {\n",
    "    'Train':f1_score(y_train, xgboosting.predict(X_train)).round(2),\n",
    "    'Test':f1_score(y_test, xgboosting.predict(X_test)).round(2)\n",
    "}"
   ]
  },
  {
   "cell_type": "markdown",
   "id": "9ebe3474",
   "metadata": {},
   "source": [
    "## CatBoost"
   ]
  },
  {
   "cell_type": "code",
   "execution_count": 40,
   "id": "597e20bb",
   "metadata": {},
   "outputs": [
    {
     "data": {
      "text/plain": [
       "<catboost.core.CatBoostClassifier at 0x1e1ab8be5b0>"
      ]
     },
     "execution_count": 40,
     "metadata": {},
     "output_type": "execute_result"
    },
    {
     "name": "stdout",
     "output_type": "stream",
     "text": [
      "모델링 소요시간: 82.98초\n"
     ]
    }
   ],
   "source": [
    "cat_clf = CatBoostClassifier(verbose=0)\n",
    "\n",
    "t0 = time.time()\n",
    "cat_clf.fit(X_train_re, y_train_re)\n",
    "t1 = time.time()\n",
    "\n",
    "print(f\"모델링 소요시간: {t1-t0:.2f}초\")\n",
    "\n",
    "pickle.dump(cat_clf, open('cat_clf.sav', 'wb'))"
   ]
  },
  {
   "cell_type": "code",
   "execution_count": 18,
   "id": "299e1a19",
   "metadata": {},
   "outputs": [
    {
     "name": "stdout",
     "output_type": "stream",
     "text": [
      "\n",
      "Training set modeling Result:\n",
      "================================================\n",
      "[[198875    145]\n",
      " [     0    344]]\n",
      "\n",
      "Accuracy Score: 99.92699999999999%\n",
      "AU Precision-Recall curve Score: 0.99394\n",
      "-----------------------------------------------\n",
      "              precision    recall  f1-score   support\n",
      "\n",
      "           0       1.00      1.00      1.00    199020\n",
      "           1       0.70      1.00      0.83       344\n",
      "\n",
      "    accuracy                           1.00    199364\n",
      "   macro avg       0.85      1.00      0.91    199364\n",
      "weighted avg       1.00      1.00      1.00    199364\n",
      "\n",
      "-----------------------------------------------\n"
     ]
    }
   ],
   "source": [
    "# 트레이닝 데이터에 대한 모델 성과평가\n",
    "print_score(y_train, cat_clf.predict(X_train), cat_clf.predict_proba(X_train)[:,1], \"Training\")"
   ]
  },
  {
   "cell_type": "code",
   "execution_count": 19,
   "id": "042b3083",
   "metadata": {},
   "outputs": [
    {
     "name": "stdout",
     "output_type": "stream",
     "text": [
      "\n",
      "Test set modeling Result:\n",
      "================================================\n",
      "[[85194   101]\n",
      " [   17   131]]\n",
      "\n",
      "Accuracy Score: 99.862%\n",
      "AU Precision-Recall curve Score: 0.87656\n",
      "-----------------------------------------------\n",
      "              precision    recall  f1-score   support\n",
      "\n",
      "           0       1.00      1.00      1.00     85295\n",
      "           1       0.56      0.89      0.69       148\n",
      "\n",
      "    accuracy                           1.00     85443\n",
      "   macro avg       0.78      0.94      0.84     85443\n",
      "weighted avg       1.00      1.00      1.00     85443\n",
      "\n",
      "-----------------------------------------------\n"
     ]
    }
   ],
   "source": [
    "# 테스트 데이터에 대한 모델 성과평가\n",
    "print_score(y_test, cat_clf.predict(X_test), cat_clf.predict_proba(X_test)[:,1], \"Test\")"
   ]
  },
  {
   "cell_type": "markdown",
   "id": "5064a589",
   "metadata": {},
   "source": [
    "**Performance evaluation of CatBoost** <br>\n",
    "* 트레이닝 세트 모델링 결과\n",
    "> Accuracy: 99.93% <br>\n",
    "AU Precision-Recall curve: 0.994 <br>\n",
    "F1: 0.83\n",
    "\n",
    "\n",
    "\n",
    "* 테스트 세트 모델링 결과\n",
    "> Accuracy: 99.86% <br>\n",
    "AUAU Precision-Recall curveROC: 0.876 <br>\n",
    "F1: 0.85"
   ]
  },
  {
   "cell_type": "code",
   "execution_count": 63,
   "id": "2d0b5b71",
   "metadata": {},
   "outputs": [],
   "source": [
    "scores_dict['CatBoost'] = {\n",
    "    'Train':f1_score(y_train, cat_clf.predict(X_train)).round(2),\n",
    "    'Test':f1_score(y_test, cat_clf.predict(X_test)).round(2)\n",
    "}"
   ]
  },
  {
   "cell_type": "markdown",
   "id": "4a55ee58",
   "metadata": {},
   "source": [
    "# 5. Comparison of model performances"
   ]
  },
  {
   "cell_type": "code",
   "execution_count": 69,
   "id": "addddd7a",
   "metadata": {},
   "outputs": [
    {
     "data": {
      "text/plain": [
       "<AxesSubplot:>"
      ]
     },
     "execution_count": 69,
     "metadata": {},
     "output_type": "execute_result"
    },
    {
     "data": {
      "text/plain": [
       "Text(0.5, 1.0, 'F1 scores')"
      ]
     },
     "execution_count": 69,
     "metadata": {},
     "output_type": "execute_result"
    },
    {
     "data": {
      "image/png": "[encoded data removed]",
      "text/plain": [
       "<Figure size 864x432 with 1 Axes>"
      ]
     },
     "metadata": {
      "needs_background": "light"
     },
     "output_type": "display_data"
    }
   ],
   "source": [
    "scores_df = pd.DataFrame(scores_dict)\n",
    "\n",
    "scores_df.plot(kind='barh', figsize=(12, 6))\n",
    "plt.title(\"F1 scores\")"
   ]
  }
 ],
 "metadata": {
  "kernelspec": {
   "display_name": "Python 3",
   "language": "python",
   "name": "python3"
  },
  "language_info": {
   "codemirror_mode": {
    "name": "ipython",
    "version": 3
   },
   "file_extension": ".py",
   "mimetype": "text/x-python",
   "name": "python",
   "nbconvert_exporter": "python",
   "pygments_lexer": "ipython3",
   "version": "3.8.8"
  },
  "toc": {
   "base_numbering": 1,
   "nav_menu": {},
   "number_sections": false,
   "sideBar": true,
   "skip_h1_title": false,
   "title_cell": "Table of Contents",
   "title_sidebar": "Contents",
   "toc_cell": true,
   "toc_position": {},
   "toc_section_display": true,
   "toc_window_display": false
  }
 },
 "nbformat": 4,
 "nbformat_minor": 5
}
